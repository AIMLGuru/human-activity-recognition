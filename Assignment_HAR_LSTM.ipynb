{
 "cells": [
  {
   "cell_type": "code",
   "execution_count": 1,
   "metadata": {
    "colab": {
     "base_uri": "https://localhost:8080/"
    },
    "id": "SUJ51u56P0BO",
    "outputId": "3b81f5eb-61d9-4982-c4da-bebe59c90cf2"
   },
   "outputs": [
    {
     "name": "stdout",
     "output_type": "stream",
     "text": [
      "Looking in indexes: https://pypi.org/simple, https://us-python.pkg.dev/colab-wheels/public/simple/\n",
      "Collecting scikeras\n",
      "  Downloading scikeras-0.9.0-py3-none-any.whl (27 kB)\n",
      "Requirement already satisfied: packaging>=0.21 in /usr/local/lib/python3.7/dist-packages (from scikeras) (21.3)\n",
      "Requirement already satisfied: importlib-metadata>=3 in /usr/local/lib/python3.7/dist-packages (from scikeras) (4.12.0)\n",
      "Requirement already satisfied: scikit-learn>=1.0.0 in /usr/local/lib/python3.7/dist-packages (from scikeras) (1.0.2)\n",
      "Requirement already satisfied: zipp>=0.5 in /usr/local/lib/python3.7/dist-packages (from importlib-metadata>=3->scikeras) (3.8.1)\n",
      "Requirement already satisfied: typing-extensions>=3.6.4 in /usr/local/lib/python3.7/dist-packages (from importlib-metadata>=3->scikeras) (4.1.1)\n",
      "Requirement already satisfied: pyparsing!=3.0.5,>=2.0.2 in /usr/local/lib/python3.7/dist-packages (from packaging>=0.21->scikeras) (3.0.9)\n",
      "Requirement already satisfied: threadpoolctl>=2.0.0 in /usr/local/lib/python3.7/dist-packages (from scikit-learn>=1.0.0->scikeras) (3.1.0)\n",
      "Requirement already satisfied: joblib>=0.11 in /usr/local/lib/python3.7/dist-packages (from scikit-learn>=1.0.0->scikeras) (1.1.0)\n",
      "Requirement already satisfied: scipy>=1.1.0 in /usr/local/lib/python3.7/dist-packages (from scikit-learn>=1.0.0->scikeras) (1.7.3)\n",
      "Requirement already satisfied: numpy>=1.14.6 in /usr/local/lib/python3.7/dist-packages (from scikit-learn>=1.0.0->scikeras) (1.21.6)\n",
      "Installing collected packages: scikeras\n",
      "Successfully installed scikeras-0.9.0\n"
     ]
    }
   ],
   "source": [
    "!pip install scikeras"
   ]
  },
  {
   "cell_type": "code",
   "execution_count": 2,
   "metadata": {
    "collapsed": true,
    "id": "b6_H37dE6SL-"
   },
   "outputs": [],
   "source": [
    "import pandas as pd\n",
    "import numpy as np\n",
    "import os\n"
   ]
  },
  {
   "cell_type": "code",
   "execution_count": 14,
   "metadata": {
    "id": "BPxAPNgkOceB"
   },
   "outputs": [],
   "source": [
    "import tensorflow.compat.v1 as tf\n",
    "tf.disable_v2_behavior()"
   ]
  },
  {
   "cell_type": "code",
   "execution_count": 4,
   "metadata": {
    "colab": {
     "base_uri": "https://localhost:8080/"
    },
    "id": "RWSJpsyKqHjH",
    "outputId": "78ba5d83-d5c1-4f54-857e-efa4efe1f1e8"
   },
   "outputs": [
    {
     "name": "stdout",
     "output_type": "stream",
     "text": [
      "Mounted at /content/drive\n"
     ]
    }
   ],
   "source": [
    "from google.colab import drive\n",
    "drive.mount('/content/drive')"
   ]
  },
  {
   "cell_type": "code",
   "execution_count": 5,
   "metadata": {
    "collapsed": true,
    "id": "DFebg09W6SME"
   },
   "outputs": [],
   "source": [
    "os.chdir(r'/content/drive/My Drive/AI/Datasets/Human activity recognition/HAR/')"
   ]
  },
  {
   "cell_type": "code",
   "execution_count": 6,
   "metadata": {
    "collapsed": true,
    "id": "lWl5hx196SMG"
   },
   "outputs": [],
   "source": [
    "# Activities are the class labels\n",
    "# It is a 6 class classification\n",
    "ACTIVITIES = {\n",
    "    0: 'WALKING',\n",
    "    1: 'WALKING_UPSTAIRS',\n",
    "    2: 'WALKING_DOWNSTAIRS',\n",
    "    3: 'SITTING',\n",
    "    4: 'STANDING',\n",
    "    5: 'LAYING',\n",
    "}\n",
    "\n",
    "# Utility function to print the confusion matrix\n",
    "def confusion_matrix(Y_true, Y_pred):\n",
    "    Y_true = pd.Series([ACTIVITIES[y] for y in np.argmax(Y_true, axis=1)])\n",
    "    Y_pred = pd.Series([ACTIVITIES[y] for y in np.argmax(Y_pred, axis=1)])\n",
    "\n",
    "    return pd.crosstab(Y_true, Y_pred, rownames=['True'], colnames=['Pred'])"
   ]
  },
  {
   "cell_type": "markdown",
   "metadata": {
    "id": "5d4CfYet6SMH"
   },
   "source": [
    "### Data"
   ]
  },
  {
   "cell_type": "code",
   "execution_count": 7,
   "metadata": {
    "collapsed": true,
    "id": "N0tWbzGG6SMJ"
   },
   "outputs": [],
   "source": [
    "# Data directory\n",
    "DATADIR = 'UCI_HAR_Dataset'"
   ]
  },
  {
   "cell_type": "code",
   "execution_count": 8,
   "metadata": {
    "collapsed": true,
    "id": "uN84mBDb6SMK"
   },
   "outputs": [],
   "source": [
    "# Raw data signals\n",
    "# Signals are from Accelerometer and Gyroscope\n",
    "# The signals are in x,y,z directions\n",
    "# Sensor signals are filtered to have only body acceleration\n",
    "# excluding the acceleration due to gravity\n",
    "# Triaxial acceleration from the accelerometer is total acceleration\n",
    "SIGNALS = [\n",
    "    \"body_acc_x\",\n",
    "    \"body_acc_y\",\n",
    "    \"body_acc_z\",\n",
    "    \"body_gyro_x\",\n",
    "    \"body_gyro_y\",\n",
    "    \"body_gyro_z\",\n",
    "    \"total_acc_x\",\n",
    "    \"total_acc_y\",\n",
    "    \"total_acc_z\"\n",
    "]"
   ]
  },
  {
   "cell_type": "code",
   "execution_count": 9,
   "metadata": {
    "collapsed": true,
    "id": "x4acjnBY6SML"
   },
   "outputs": [],
   "source": [
    "# Utility function to read the data from csv file\n",
    "def _read_csv(filename):\n",
    "    return pd.read_csv(filename, delim_whitespace=True, header=None)\n",
    "\n",
    "# Utility function to load the load\n",
    "def load_signals(subset):\n",
    "    signals_data = []\n",
    "\n",
    "    for signal in SIGNALS:\n",
    "        filename = f'UCI_HAR_Dataset/{subset}/Inertial Signals/{signal}_{subset}.txt'\n",
    "        signals_data.append(\n",
    "            _read_csv(filename).to_numpy()\n",
    "        ) \n",
    "\n",
    "    # Transpose is used to change the dimensionality of the output,\n",
    "    # aggregating the signals by combination of sample/timestep.\n",
    "    # Resultant shape is (7352 train/2947 test samples, 128 timesteps, 9 signals)\n",
    "    return np.transpose(signals_data, (1, 2, 0))"
   ]
  },
  {
   "cell_type": "code",
   "execution_count": 10,
   "metadata": {
    "collapsed": true,
    "id": "0kSxdvqK6SMM"
   },
   "outputs": [],
   "source": [
    "\n",
    "def load_y(subset):\n",
    "    \"\"\"\n",
    "    The objective that we are trying to predict is a integer, from 1 to 6,\n",
    "    that represents a human activity. We return a binary representation of \n",
    "    every sample objective as a 6 bits vector using One Hot Encoding\n",
    "    (https://pandas.pydata.org/pandas-docs/stable/generated/pandas.get_dummies.html)\n",
    "    \"\"\"\n",
    "    filename = f'UCI_HAR_Dataset/{subset}/y_{subset}.txt'\n",
    "    y = _read_csv(filename)[0]\n",
    "\n",
    "    return pd.get_dummies(y).to_numpy()"
   ]
  },
  {
   "cell_type": "code",
   "execution_count": 11,
   "metadata": {
    "collapsed": true,
    "id": "eJcCOzJe6SMN"
   },
   "outputs": [],
   "source": [
    "def load_data():\n",
    "    \"\"\"\n",
    "    Obtain the dataset from multiple files.\n",
    "    Returns: X_train, X_test, y_train, y_test\n",
    "    \"\"\"\n",
    "    X_train, X_test = load_signals('train'), load_signals('test')\n",
    "    y_train, y_test = load_y('train'), load_y('test')\n",
    "\n",
    "    return X_train, X_test, y_train, y_test"
   ]
  },
  {
   "cell_type": "code",
   "execution_count": 12,
   "metadata": {
    "collapsed": true,
    "id": "sMEb18FQ6SMO"
   },
   "outputs": [],
   "source": [
    "# Importing tensorflow\n",
    "np.random.seed(42)\n",
    "import tensorflow as tf\n",
    "tf.random.set_seed(42)"
   ]
  },
  {
   "cell_type": "code",
   "execution_count": 15,
   "metadata": {
    "collapsed": true,
    "id": "JKlfxFrT6SMO"
   },
   "outputs": [],
   "source": [
    "# Configuring a session\n",
    "session_conf = tf.ConfigProto(\n",
    "    intra_op_parallelism_threads=1,\n",
    "    inter_op_parallelism_threads=1\n",
    ")"
   ]
  },
  {
   "cell_type": "code",
   "execution_count": 16,
   "metadata": {
    "id": "qJ0HmBuz6SMP"
   },
   "outputs": [],
   "source": [
    "# Import Keras\n",
    "from keras import backend as K\n",
    "sess = tf.Session(graph=tf.get_default_graph(), config=session_conf)\n",
    "K.set_session(sess)"
   ]
  },
  {
   "cell_type": "code",
   "execution_count": 33,
   "metadata": {
    "collapsed": true,
    "id": "K0BLaqKE6SMQ"
   },
   "outputs": [],
   "source": [
    "# Importing libraries\n",
    "from keras.models import Sequential\n",
    "from keras.layers import LSTM\n",
    "from keras.layers.core import Dense, Dropout\n",
    "from keras.layers import BatchNormalization\n",
    "#from keras.optimizers import SGD\n",
    "from tensorflow.keras.optimizers import SGD"
   ]
  },
  {
   "cell_type": "code",
   "execution_count": 48,
   "metadata": {
    "collapsed": true,
    "id": "jigkt3vu6SMQ"
   },
   "outputs": [],
   "source": [
    "# Initializing parameters\n",
    "epochs = 30\n",
    "batch_size = 24\n",
    "n_hidden = 32"
   ]
  },
  {
   "cell_type": "code",
   "execution_count": 35,
   "metadata": {
    "collapsed": true,
    "id": "pNNixyAm6SMR"
   },
   "outputs": [],
   "source": [
    "# Utility function to count the number of classes\n",
    "def _count_classes(y):\n",
    "    return len(set([tuple(category) for category in y]))"
   ]
  },
  {
   "cell_type": "code",
   "execution_count": 36,
   "metadata": {
    "collapsed": true,
    "id": "-M9GBQK-6SMR"
   },
   "outputs": [],
   "source": [
    "# Loading the train and test data\n",
    "X_train, X_test, Y_train, Y_test = load_data()"
   ]
  },
  {
   "cell_type": "code",
   "execution_count": 37,
   "metadata": {
    "colab": {
     "base_uri": "https://localhost:8080/"
    },
    "id": "GLxBuHjj6SMS",
    "outputId": "f150ce86-8615-4bbb-b228-64fcac157098"
   },
   "outputs": [
    {
     "name": "stdout",
     "output_type": "stream",
     "text": [
      "128\n",
      "9\n",
      "7352\n"
     ]
    }
   ],
   "source": [
    "timesteps = len(X_train[0])\n",
    "input_dim = len(X_train[0][0])\n",
    "n_classes = _count_classes(Y_train)\n",
    "activation='sigmoid'\n",
    "\n",
    "print(timesteps)\n",
    "print(input_dim)\n",
    "print(len(X_train))"
   ]
  },
  {
   "cell_type": "code",
   "execution_count": null,
   "metadata": {
    "id": "2L51du-965q1"
   },
   "outputs": [],
   "source": [
    "'''def lstm_model(dropout_rate, n_hidden, n_classes):\n",
    "    # create model\n",
    "    model = Sequential()\n",
    "    # Configuring the parameters\n",
    "    model.add(LSTM(n_hidden,return_sequences=True, input_shape=(timesteps, input_dim)))\n",
    "    # Adding a dropout layer\n",
    "    model.add(Dropout(dropout_rate))\n",
    "    model.add(LSTM(n_hidden))\n",
    "    # Adding a dense output layer with sigmoid activation\n",
    "    model.add(Dense(n_classes, activation='sigmoid'))\n",
    "\n",
    "    # Compile model\n",
    "    model.compile(loss='binary_crossentropy', optimizer='adam', metrics=['accuracy'])\n",
    "    return model'''"
   ]
  },
  {
   "cell_type": "code",
   "execution_count": null,
   "metadata": {
    "id": "8TPHnLpw6-CU"
   },
   "outputs": [],
   "source": [
    "'''#https://machinelearningmastery.com/grid-search-hyperparameters-deep-learning-models-python-keras/\n",
    "import numpy as np\n",
    "import tensorflow as tf\n",
    "from sklearn.model_selection import GridSearchCV\n",
    "from tensorflow.keras.models import Sequential\n",
    "from tensorflow.keras.layers import Dense, Dropout\n",
    "from scikeras.wrappers import KerasClassifier\n",
    "\n",
    "seed = 7\n",
    "tf.random.set_seed(seed)\n",
    "\n",
    "X_train, X_test, Y_train, Y_test = load_data()\n",
    "\n",
    "model = KerasClassifier(model=lstm_model, verbose=0)\n",
    "\n",
    "batch_size = [32]\n",
    "epochs = [200]\n",
    "neurons = [48, 64]\n",
    "dropout_rate = [0.4, 0.5,]\n",
    "n_classes = [_count_classes(Y_train)]\n",
    "\n",
    "param_grid = dict(model__dropout_rate=dropout_rate, model__n_hidden=neurons, model__n_classes = n_classes,\n",
    "                   batch_size=batch_size, epochs=epochs)\n",
    "\n",
    "grid = GridSearchCV(estimator=model, param_grid=param_grid, n_jobs=-1)\n",
    "\n",
    "grid_result = grid.fit(X_train, Y_train)\n",
    "'''"
   ]
  },
  {
   "cell_type": "markdown",
   "metadata": {
    "id": "y2inxiaO6SMT"
   },
   "source": [
    "- Defining the Architecture of LSTM"
   ]
  },
  {
   "cell_type": "code",
   "execution_count": 42,
   "metadata": {
    "colab": {
     "base_uri": "https://localhost:8080/"
    },
    "id": "MbfzftR46SMU",
    "outputId": "893d601c-c1ec-40fb-84c1-df9287c1ad75"
   },
   "outputs": [
    {
     "name": "stdout",
     "output_type": "stream",
     "text": [
      "Model: \"sequential_4\"\n",
      "_________________________________________________________________\n",
      " Layer (type)                Output Shape              Param #   \n",
      "=================================================================\n",
      " lstm_9 (LSTM)               (None, 128, 32)           5376      \n",
      "                                                                 \n",
      " batch_normalization_4 (Batc  (None, 128, 32)          128       \n",
      " hNormalization)                                                 \n",
      "                                                                 \n",
      " lstm_10 (LSTM)              (None, 32)                8320      \n",
      "                                                                 \n",
      " dense_3 (Dense)             (None, 6)                 198       \n",
      "                                                                 \n",
      "=================================================================\n",
      "Total params: 14,022\n",
      "Trainable params: 13,958\n",
      "Non-trainable params: 64\n",
      "_________________________________________________________________\n"
     ]
    }
   ],
   "source": [
    "# Initiliazing the sequential model\n",
    "model = Sequential()\n",
    "# Configuring the parameters\n",
    "model.add(LSTM(n_hidden,return_sequences=True, input_shape=(timesteps, input_dim)))\n",
    "model.add(BatchNormalization())\n",
    "model.add(LSTM(n_hidden))\n",
    "\n",
    "#model.add(Dropout(0.7))\n",
    "#model.add(LSTM(n_hidden))\n",
    "#opt = SGD(lr=0.01, momentum=0.9)\n",
    "# Adding a dense output layer with sigmoid activation\n",
    "model.add(Dense(n_classes, activation=activation))\n",
    "model.summary()"
   ]
  },
  {
   "cell_type": "code",
   "execution_count": 53,
   "metadata": {
    "collapsed": true,
    "id": "xNvZCgRi6SMV"
   },
   "outputs": [],
   "source": [
    "# Compiling the model\n",
    "model.compile(loss='categorical_crossentropy',\n",
    "              optimizer='adam',\n",
    "              metrics=['accuracy'])"
   ]
  },
  {
   "cell_type": "code",
   "execution_count": 54,
   "metadata": {
    "colab": {
     "base_uri": "https://localhost:8080/"
    },
    "id": "XzrAWUTB6SMW",
    "outputId": "80baf525-8839-4020-9a22-6b587d9fc554"
   },
   "outputs": [
    {
     "name": "stdout",
     "output_type": "stream",
     "text": [
      "Train on 7352 samples, validate on 2947 samples\n",
      "Epoch 1/30\n",
      "7352/7352 [==============================] - 28s 4ms/sample - loss: 0.0452 - acc: 0.9769 - val_loss: 0.4136 - val_acc: 0.9091\n",
      "Epoch 2/30\n",
      "7352/7352 [==============================] - 26s 4ms/sample - loss: 0.0461 - acc: 0.9805 - val_loss: 0.2742 - val_acc: 0.9321\n",
      "Epoch 3/30\n",
      "7352/7352 [==============================] - 27s 4ms/sample - loss: 0.0556 - acc: 0.9761 - val_loss: 0.2641 - val_acc: 0.9284\n",
      "Epoch 4/30\n",
      "7352/7352 [==============================] - 27s 4ms/sample - loss: 0.0403 - acc: 0.9810 - val_loss: 0.2589 - val_acc: 0.9332\n",
      "Epoch 5/30\n",
      "7352/7352 [==============================] - 26s 4ms/sample - loss: 0.0457 - acc: 0.9811 - val_loss: 0.2652 - val_acc: 0.9301\n",
      "Epoch 6/30\n",
      "7352/7352 [==============================] - 28s 4ms/sample - loss: 0.0372 - acc: 0.9842 - val_loss: 0.3341 - val_acc: 0.9196\n",
      "Epoch 7/30\n",
      "7352/7352 [==============================] - 26s 4ms/sample - loss: 0.0377 - acc: 0.9820 - val_loss: 0.3343 - val_acc: 0.9233\n",
      "Epoch 8/30\n",
      "7352/7352 [==============================] - 26s 4ms/sample - loss: 0.0404 - acc: 0.9820 - val_loss: 0.3943 - val_acc: 0.9158\n",
      "Epoch 9/30\n",
      "7352/7352 [==============================] - 27s 4ms/sample - loss: 0.0377 - acc: 0.9841 - val_loss: 0.3097 - val_acc: 0.9240\n",
      "Epoch 10/30\n",
      "7352/7352 [==============================] - 27s 4ms/sample - loss: 0.0549 - acc: 0.9727 - val_loss: 0.3147 - val_acc: 0.9298\n",
      "Epoch 11/30\n",
      "7352/7352 [==============================] - 26s 4ms/sample - loss: 0.0373 - acc: 0.9839 - val_loss: 0.2838 - val_acc: 0.9298\n",
      "Epoch 12/30\n",
      "7352/7352 [==============================] - 25s 3ms/sample - loss: 0.0509 - acc: 0.9803 - val_loss: 0.2979 - val_acc: 0.9311\n",
      "Epoch 13/30\n",
      "7352/7352 [==============================] - 25s 3ms/sample - loss: 0.0353 - acc: 0.9853 - val_loss: 0.3027 - val_acc: 0.9250\n",
      "Epoch 14/30\n",
      "7352/7352 [==============================] - 25s 3ms/sample - loss: 0.0430 - acc: 0.9800 - val_loss: 0.2978 - val_acc: 0.9270\n",
      "Epoch 15/30\n",
      "7352/7352 [==============================] - 27s 4ms/sample - loss: 0.0403 - acc: 0.9831 - val_loss: 0.3046 - val_acc: 0.9223\n",
      "Epoch 16/30\n",
      "7352/7352 [==============================] - 25s 3ms/sample - loss: 0.0441 - acc: 0.9816 - val_loss: 0.2822 - val_acc: 0.9260\n",
      "Epoch 17/30\n",
      "7352/7352 [==============================] - 25s 3ms/sample - loss: 0.0410 - acc: 0.9807 - val_loss: 0.3131 - val_acc: 0.9315\n",
      "Epoch 18/30\n",
      "7352/7352 [==============================] - 25s 3ms/sample - loss: 0.0388 - acc: 0.9845 - val_loss: 0.2997 - val_acc: 0.9298\n",
      "Epoch 19/30\n",
      "7352/7352 [==============================] - 25s 3ms/sample - loss: 0.0382 - acc: 0.9831 - val_loss: 0.3122 - val_acc: 0.9287\n",
      "Epoch 20/30\n",
      "7352/7352 [==============================] - 25s 3ms/sample - loss: 0.0336 - acc: 0.9853 - val_loss: 0.3497 - val_acc: 0.9223\n",
      "Epoch 21/30\n",
      "7352/7352 [==============================] - 26s 3ms/sample - loss: 0.0332 - acc: 0.9853 - val_loss: 0.3827 - val_acc: 0.9230\n",
      "Epoch 22/30\n",
      "7352/7352 [==============================] - 26s 4ms/sample - loss: 0.0306 - acc: 0.9852 - val_loss: 0.3113 - val_acc: 0.9294\n",
      "Epoch 23/30\n",
      "7352/7352 [==============================] - 26s 3ms/sample - loss: 0.0336 - acc: 0.9850 - val_loss: 0.3558 - val_acc: 0.9267\n",
      "Epoch 24/30\n",
      "7352/7352 [==============================] - 27s 4ms/sample - loss: 0.0338 - acc: 0.9835 - val_loss: 0.3466 - val_acc: 0.9298\n",
      "Epoch 25/30\n",
      "7352/7352 [==============================] - 25s 3ms/sample - loss: 0.0346 - acc: 0.9845 - val_loss: 0.3551 - val_acc: 0.9243\n",
      "Epoch 26/30\n",
      "7352/7352 [==============================] - 25s 3ms/sample - loss: 0.0348 - acc: 0.9842 - val_loss: 0.3663 - val_acc: 0.9260\n",
      "Epoch 27/30\n",
      "7352/7352 [==============================] - 25s 3ms/sample - loss: 0.0355 - acc: 0.9850 - val_loss: 0.3340 - val_acc: 0.9294\n",
      "Epoch 28/30\n",
      "7352/7352 [==============================] - 25s 3ms/sample - loss: 0.0367 - acc: 0.9854 - val_loss: 0.3413 - val_acc: 0.9301\n",
      "Epoch 29/30\n",
      "7352/7352 [==============================] - 26s 4ms/sample - loss: 0.0374 - acc: 0.9829 - val_loss: 0.3483 - val_acc: 0.9216\n",
      "Epoch 30/30\n",
      "7352/7352 [==============================] - 25s 3ms/sample - loss: 0.0326 - acc: 0.9857 - val_loss: 0.3104 - val_acc: 0.9345\n"
     ]
    },
    {
     "data": {
      "text/plain": [
       "<keras.callbacks.History at 0x7f377c4c7050>"
      ]
     },
     "execution_count": 54,
     "metadata": {},
     "output_type": "execute_result"
    }
   ],
   "source": [
    "# Training the model\n",
    "model.fit(X_train,\n",
    "          Y_train,\n",
    "          batch_size=batch_size,\n",
    "          validation_data=(X_test, Y_test),\n",
    "          epochs=epochs)"
   ]
  },
  {
   "cell_type": "code",
   "execution_count": 56,
   "metadata": {
    "colab": {
     "base_uri": "https://localhost:8080/"
    },
    "id": "nJRkXClA6SMW",
    "outputId": "80181d14-38ef-474c-97f6-38f48f66d26b"
   },
   "outputs": [
    {
     "name": "stdout",
     "output_type": "stream",
     "text": [
      "Pred                LAYING  SITTING  STANDING  WALKING  WALKING_DOWNSTAIRS  \\\n",
      "True                                                                         \n",
      "LAYING                 537        0         0        0                   0   \n",
      "SITTING                  2      383       104        0                   0   \n",
      "STANDING                 0       43       488        1                   0   \n",
      "WALKING                  0        0         0      464                  29   \n",
      "WALKING_DOWNSTAIRS       0        0         0        0                 418   \n",
      "WALKING_UPSTAIRS         0        0         0        0                   7   \n",
      "\n",
      "Pred                WALKING_UPSTAIRS  \n",
      "True                                  \n",
      "LAYING                             0  \n",
      "SITTING                            2  \n",
      "STANDING                           0  \n",
      "WALKING                            3  \n",
      "WALKING_DOWNSTAIRS                 2  \n",
      "WALKING_UPSTAIRS                 464  \n"
     ]
    }
   ],
   "source": [
    "# Confusion Matrix\n",
    "print(confusion_matrix(Y_test, model.predict(X_test)))"
   ]
  },
  {
   "cell_type": "code",
   "execution_count": 57,
   "metadata": {
    "id": "t57TCxn16SMX"
   },
   "outputs": [],
   "source": [
    "score = model.evaluate(X_test, Y_test)"
   ]
  },
  {
   "cell_type": "code",
   "execution_count": 58,
   "metadata": {
    "colab": {
     "base_uri": "https://localhost:8080/"
    },
    "id": "GJktbje16SMY",
    "outputId": "08a7df50-7e31-4f7e-9c69-c6d7859d417c"
   },
   "outputs": [
    {
     "data": {
      "text/plain": [
       "[0.310381090344931, 0.9345097]"
      ]
     },
     "execution_count": 58,
     "metadata": {},
     "output_type": "execute_result"
    }
   ],
   "source": [
    "score"
   ]
  },
  {
   "cell_type": "markdown",
   "metadata": {
    "id": "OpM1t9o-6F5W"
   },
   "source": [
    "### Obsertvations\n",
    "- Experimented with various hyperparameters like batch size, number of hidden layers, dropouts values and Batch normalization\n",
    "- The best accuracy achieved is 0.9345\n",
    "- Model is still ambiguous in predicting the sitting and stading values"
   ]
  }
 ],
 "metadata": {
  "accelerator": "GPU",
  "colab": {
   "collapsed_sections": [],
   "provenance": []
  },
  "gpuClass": "standard",
  "kernelspec": {
   "display_name": "Python 3 (ipykernel)",
   "language": "python",
   "name": "python3"
  },
  "language_info": {
   "codemirror_mode": {
    "name": "ipython",
    "version": 3
   },
   "file_extension": ".py",
   "mimetype": "text/x-python",
   "name": "python",
   "nbconvert_exporter": "python",
   "pygments_lexer": "ipython3",
   "version": "3.8.12"
  }
 },
 "nbformat": 4,
 "nbformat_minor": 1
}
